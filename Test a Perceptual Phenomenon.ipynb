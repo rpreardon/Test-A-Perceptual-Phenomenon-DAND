{
 "cells": [
  {
   "cell_type": "markdown",
   "metadata": {},
   "source": [
    "### Analyzing the Stroop Effect\n",
    "\n",
    "\n",
    "(1) What is the independent variable? What is the dependent variable?"
   ]
  },
  {
   "cell_type": "markdown",
   "metadata": {},
   "source": [
    "--Independent Variable: is font name and color are the same, or different. Dependant variable: is the reaction time between stimulus and response.--\n"
   ]
  },
  {
   "cell_type": "markdown",
   "metadata": {},
   "source": [
    "(2) What is an appropriate set of hypotheses for this task? Specify your null and alternative hypotheses, and clearly define any notation used. Justify your choices."
   ]
  },
  {
   "cell_type": "markdown",
   "metadata": {},
   "source": [
    "--The Stroop Effect shows that when a color word is printed in the same color word as the word, people can name the ink color more quickly (congruent environment) compared with when a color word is printed with an ink color that is different from the word (incongruent environment). For the null hypothesis: I chose the congruent environment mean - incongruent environment mean is equal to 0.  For the alternate hypothesis: I chose the congruent environment mean - incongruent mean mean is less than 0.  I chose these hypotheses, because we're going to find an observed difference in the stroop effect claims between times of congruent environment and incongruent envirmonment.--"
   ]
  },
  {
   "cell_type": "markdown",
   "metadata": {},
   "source": [
    "**$$Please\\ not\\ the\\ the\\ mathematical\\ statement\\ of\\ my\\ hypotheses\\ below\\ with\\ an\\ explanation\\ of\\ the\\ notation\\ used\\ below\\ that:$$**"
   ]
  },
  {
   "cell_type": "markdown",
   "metadata": {},
   "source": [
    "**$$Mathematical\\ Statement:$$**\n",
    "**$$H_0: \\mu_{c} - \\mu_{i} = 0$$**\n",
    "**$$H_1: \\mu_{c} - \\mu_{i} < 0$$**"
   ]
  },
  {
   "cell_type": "markdown",
   "metadata": {},
   "source": [
    "**$$Definitions\\ of\\ Notation\\ Used:$$**\n",
    "**$$H_O: Null\\ Hypothesis$$**\n",
    "**$$H_1: Alternative\\ Hypothesis$$**\n",
    "**$$\\mu_{c}: congruent\\ population\\ mean$$**\n",
    "**$$\\mu_{i}: incongruent\\ population\\ mean$$**"
   ]
  },
  {
   "cell_type": "markdown",
   "metadata": {},
   "source": [
    "--I chose to use a paired t-test because we're measuring times from the same subject to see the before and after result. Another reason I chose this method; is our sample, or in this case population, is already small at 24 participants.  In addition, the distribtuions of both congruent and incongruent populations weren't really evenly distributed, so using a z test, or f test which both are sensitive to non normality; probably wouldn't be the best choice. You could probably try bootstaping, but I didn't feel like that method was as effective as a paired t-test.--"
   ]
  },
  {
   "cell_type": "markdown",
   "metadata": {},
   "source": [
    "(3) Report some descriptive statistics regarding this dataset. Include at least one measure of central tendency and at least one measure of variability. The name of the data file is 'stroopdata.csv'."
   ]
  },
  {
   "cell_type": "code",
   "execution_count": 1,
   "metadata": {},
   "outputs": [],
   "source": [
    "import pandas as pd\n",
    "import numpy as np\n",
    "import random\n",
    "import matplotlib.pyplot as plt\n",
    "%matplotlib inline"
   ]
  },
  {
   "cell_type": "code",
   "execution_count": 2,
   "metadata": {},
   "outputs": [
    {
     "data": {
      "text/html": [
       "<div>\n",
       "<style scoped>\n",
       "    .dataframe tbody tr th:only-of-type {\n",
       "        vertical-align: middle;\n",
       "    }\n",
       "\n",
       "    .dataframe tbody tr th {\n",
       "        vertical-align: top;\n",
       "    }\n",
       "\n",
       "    .dataframe thead th {\n",
       "        text-align: right;\n",
       "    }\n",
       "</style>\n",
       "<table border=\"1\" class=\"dataframe\">\n",
       "  <thead>\n",
       "    <tr style=\"text-align: right;\">\n",
       "      <th></th>\n",
       "      <th>Congruent</th>\n",
       "      <th>Incongruent</th>\n",
       "    </tr>\n",
       "  </thead>\n",
       "  <tbody>\n",
       "    <tr>\n",
       "      <th>0</th>\n",
       "      <td>12.079</td>\n",
       "      <td>19.278</td>\n",
       "    </tr>\n",
       "    <tr>\n",
       "      <th>1</th>\n",
       "      <td>16.791</td>\n",
       "      <td>18.741</td>\n",
       "    </tr>\n",
       "    <tr>\n",
       "      <th>2</th>\n",
       "      <td>9.564</td>\n",
       "      <td>21.214</td>\n",
       "    </tr>\n",
       "    <tr>\n",
       "      <th>3</th>\n",
       "      <td>8.630</td>\n",
       "      <td>15.687</td>\n",
       "    </tr>\n",
       "    <tr>\n",
       "      <th>4</th>\n",
       "      <td>14.669</td>\n",
       "      <td>22.803</td>\n",
       "    </tr>\n",
       "  </tbody>\n",
       "</table>\n",
       "</div>"
      ],
      "text/plain": [
       "   Congruent  Incongruent\n",
       "0     12.079       19.278\n",
       "1     16.791       18.741\n",
       "2      9.564       21.214\n",
       "3      8.630       15.687\n",
       "4     14.669       22.803"
      ]
     },
     "execution_count": 2,
     "metadata": {},
     "output_type": "execute_result"
    }
   ],
   "source": [
    "#read in dataset\n",
    "df = pd.read_csv('stroopdata.csv')\n",
    "df.head()"
   ]
  },
  {
   "cell_type": "code",
   "execution_count": 3,
   "metadata": {},
   "outputs": [
    {
     "data": {
      "text/html": [
       "<div>\n",
       "<style scoped>\n",
       "    .dataframe tbody tr th:only-of-type {\n",
       "        vertical-align: middle;\n",
       "    }\n",
       "\n",
       "    .dataframe tbody tr th {\n",
       "        vertical-align: top;\n",
       "    }\n",
       "\n",
       "    .dataframe thead th {\n",
       "        text-align: right;\n",
       "    }\n",
       "</style>\n",
       "<table border=\"1\" class=\"dataframe\">\n",
       "  <thead>\n",
       "    <tr style=\"text-align: right;\">\n",
       "      <th></th>\n",
       "      <th>Congruent</th>\n",
       "      <th>Incongruent</th>\n",
       "    </tr>\n",
       "  </thead>\n",
       "  <tbody>\n",
       "    <tr>\n",
       "      <th>count</th>\n",
       "      <td>24.000000</td>\n",
       "      <td>24.000000</td>\n",
       "    </tr>\n",
       "    <tr>\n",
       "      <th>mean</th>\n",
       "      <td>14.051125</td>\n",
       "      <td>22.015917</td>\n",
       "    </tr>\n",
       "    <tr>\n",
       "      <th>std</th>\n",
       "      <td>3.559358</td>\n",
       "      <td>4.797057</td>\n",
       "    </tr>\n",
       "    <tr>\n",
       "      <th>min</th>\n",
       "      <td>8.630000</td>\n",
       "      <td>15.687000</td>\n",
       "    </tr>\n",
       "    <tr>\n",
       "      <th>25%</th>\n",
       "      <td>11.895250</td>\n",
       "      <td>18.716750</td>\n",
       "    </tr>\n",
       "    <tr>\n",
       "      <th>50%</th>\n",
       "      <td>14.356500</td>\n",
       "      <td>21.017500</td>\n",
       "    </tr>\n",
       "    <tr>\n",
       "      <th>75%</th>\n",
       "      <td>16.200750</td>\n",
       "      <td>24.051500</td>\n",
       "    </tr>\n",
       "    <tr>\n",
       "      <th>max</th>\n",
       "      <td>22.328000</td>\n",
       "      <td>35.255000</td>\n",
       "    </tr>\n",
       "  </tbody>\n",
       "</table>\n",
       "</div>"
      ],
      "text/plain": [
       "       Congruent  Incongruent\n",
       "count  24.000000    24.000000\n",
       "mean   14.051125    22.015917\n",
       "std     3.559358     4.797057\n",
       "min     8.630000    15.687000\n",
       "25%    11.895250    18.716750\n",
       "50%    14.356500    21.017500\n",
       "75%    16.200750    24.051500\n",
       "max    22.328000    35.255000"
      ]
     },
     "execution_count": 3,
     "metadata": {},
     "output_type": "execute_result"
    }
   ],
   "source": [
    "#description of the data\n",
    "df.describe()"
   ]
  },
  {
   "cell_type": "code",
   "execution_count": 4,
   "metadata": {},
   "outputs": [
    {
     "name": "stdout",
     "output_type": "stream",
     "text": [
      "Congruent Mean: 14.05\n",
      "Congruent Std Deviation: 3.56 \n",
      "\n",
      "Incongruent Mean: 22.02\n",
      "Incongruent Std Deviation: 4.8\n"
     ]
    }
   ],
   "source": [
    "def descriptive_statistics():\n",
    "    \n",
    "    c = df['Congruent']\n",
    "    i = df['Incongruent']\n",
    "    \n",
    "    #at least one measure of central tendencey - mean times of congruent and incongruent\n",
    "    c_mean = c.mean()\n",
    "    i_mean = i.mean()\n",
    "    \n",
    "    #at least one measure of variability - standard deviation of congruent and incongruent\n",
    "    c_std = c.std()\n",
    "    i_std = i.std()\n",
    "    \n",
    "    print('Congruent Mean:',round(c_mean,2))\n",
    "    print('Congruent Std Deviation:',round(c_std,2),'\\n')\n",
    "    print('Incongruent Mean:',round(i_mean,2))\n",
    "    print('Incongruent Std Deviation:',round(i_std,2))\n",
    "    \n",
    "    return;\n",
    "\n",
    "descriptive_statistics()"
   ]
  },
  {
   "cell_type": "markdown",
   "metadata": {},
   "source": [
    "--I calculated the mean std deviation for the congruent environment times: the mean is 14.05 and std dev is 3.56. Also, I calcualted the mean and std deviation for the incongruent environment times: the mean is 22.02 and std dev is 4.8.  Based on the descriptive statistics this does seems to show in favor alternative hypothesis showing incongruent does have a higher average, but the standard deviation is higher too which does indicates the data isn't as close to the average as the congruent times.  This could be due to individuals performing better than others.--"
   ]
  },
  {
   "cell_type": "markdown",
   "metadata": {},
   "source": [
    "(4) Provide one or two visualizations that show the distribution of the sample data. Write one or two sentences noting what you observe about the plot or plots."
   ]
  },
  {
   "cell_type": "code",
   "execution_count": 5,
   "metadata": {},
   "outputs": [
    {
     "data": {
      "image/png": "[encoded data removed]",
      "text/plain": [
       "<Figure size 432x288 with 1 Axes>"
      ]
     },
     "metadata": {},
     "output_type": "display_data"
    }
   ],
   "source": [
    "#histogram shows the distributions of congruent and incongruent times\n",
    "df['Congruent'].hist(alpha=0.8,bins=8,label='Congruent');\n",
    "df['Incongruent'].hist(alpha=0.8,bins=8,label='Incongruent');\n",
    "plt.title('Distribution of Congruent and Incongruent Times')\n",
    "plt.xlabel('Times',fontsize=12)\n",
    "plt.ylabel('Count',fontsize=12)\n",
    "plt.grid(False)\n",
    "plt.legend();"
   ]
  },
  {
   "cell_type": "code",
   "execution_count": 6,
   "metadata": {},
   "outputs": [
    {
     "name": "stdout",
     "output_type": "stream",
     "text": [
      "correlation coefficient between Congruent and Incongruent...\n",
      "\n",
      "[[1.         0.35181953]\n",
      " [0.35181953 1.        ]]\n"
     ]
    },
    {
     "data": {
      "image/png": "[encoded data removed]",
      "text/plain": [
       "<Figure size 432x288 with 1 Axes>"
      ]
     },
     "metadata": {},
     "output_type": "display_data"
    }
   ],
   "source": [
    "#correlation coefficient between congruent and incongruent\n",
    "x = df.Congruent\n",
    "y = df.Incongruent\n",
    "\n",
    "cc = np.corrcoef(x, y)\n",
    "\n",
    "print('correlation coefficient between Congruent and Incongruent...\\n')\n",
    "print(cc)\n",
    "    \n",
    "#scatter plot showing a moderate positive correlation between age and overall rating\n",
    "plt.scatter(x, y, alpha=0.5,color='orange')\n",
    "plt.title('Incongruent vs Congruent',fontsize=12)\n",
    "plt.xlabel('Congruent',fontsize=12)\n",
    "plt.ylabel('Incongruent',fontsize=12)\n",
    "plt.show();"
   ]
  },
  {
   "cell_type": "markdown",
   "metadata": {},
   "source": [
    "--Histrograms show side by side congruent environment distribution and incongruent environment distribution. The congruent distribution is slightly normarally distributed. The incongruent distribution appears skewed to the right slightly due to large outlier at 35. Scatter plot shows a weak positve correlation and correlation coefficient of .351 shows that as well.--"
   ]
  },
  {
   "cell_type": "markdown",
   "metadata": {},
   "source": [
    "(5)  Now, perform the statistical test and report your results. What is your confidence level or Type I error associated with your test? What is your conclusion regarding the hypotheses you set up? Did the results match up with your expectations? **Hint:**  Think about what is being measured on each individual, and what statistic best captures how an individual reacts in each environment."
   ]
  },
  {
   "cell_type": "code",
   "execution_count": 7,
   "metadata": {},
   "outputs": [
    {
     "name": "stdout",
     "output_type": "stream",
     "text": [
      "mean difference: -7.964791666666667\n",
      "std deviation difference: 4.864826910359056 \n",
      "\n",
      "critical t: 2.0686576104190406\n",
      "The t-statistic is -8.020706944110 and two tailed p-value result is 0.000000041030\n"
     ]
    }
   ],
   "source": [
    "def stat_test():\n",
    "    \n",
    "    from scipy.stats import distributions as dists\n",
    "    from scipy.stats import stats as st\n",
    "    \n",
    "    #insert a column with the difference between congruent and incongruent environment times\n",
    "    df['diff'] = df['Congruent'] - df['Incongruent']\n",
    "    \n",
    "    #diff column mean and std deviation\n",
    "    diff_mean = df['diff'].mean()\n",
    "    diff_std = df['diff'].std()\n",
    "    print('mean difference:',diff_mean)\n",
    "    print('std deviation difference:',diff_std,'\\n')\n",
    "    \n",
    "    #critical t for significance level of .05 and degree of freedom of 23 (n-1)\n",
    "    tcritical = dists.t.ppf(1-.05/2,23)\n",
    "    print('critical t:',tcritical)\n",
    "    \n",
    "    #t-statistic and p-value for a paired two tailed test\n",
    "    paired_sample = st.ttest_rel(df['Congruent'], df['Incongruent'])\n",
    "    print('The t-statistic is %.12f and two tailed p-value result is %.12f'% paired_sample)\n",
    "    \n",
    "    return;\n",
    "\n",
    "stat_test()"
   ]
  },
  {
   "cell_type": "markdown",
   "metadata": {},
   "source": [
    "**Conclusion:**\n",
    "--Because the t-value falls outside the acceptance region between 2.068 and -2.068 critical t-values, we \n",
    "reject the null hypothesis. Another way to interpret the result is that the p-value is lower than the critical t-value and the type I error rate or alpha of .05 (5%), the probability of not getting a observed or extreme mean diﬀerence given the null hypothesis is false; therefore, we reject the null hypothesis. Mean diﬀerence between congruent environment and incongruent environment is statistically signiﬁcant and not based on chance.--"
   ]
  },
  {
   "cell_type": "markdown",
   "metadata": {},
   "source": [
    "(6) Optional: What do you think is responsible for the effects observed? Can you think of an alternative or similar task that would result in a similar effect? Some research about the problem will be helpful for thinking about these two questions!"
   ]
  },
  {
   "cell_type": "markdown",
   "metadata": {},
   "source": [
    "--\"Stroop effect\" is named after J.Ridley Stroop; basically, the words have a stronger influence over the ability to say the color.  This is due to the inference between different information your brain receives which causes the problem. For example, the the actual word vs the color of the word; it's easier to read the word, because naming the color requires more attention.   Completing the second part of the test requires more concentration which is due to longer reaction times.   An alternative, or similar task in a similar effect might be reading numbers forward and backwards.  For example, reading 1 2 would probably quicker than reading 2 1.--"
   ]
  }
 ],
 "metadata": {
  "kernelspec": {
   "display_name": "Python 3",
   "language": "python",
   "name": "python3"
  },
  "language_info": {
   "codemirror_mode": {
    "name": "ipython",
    "version": 3
   },
   "file_extension": ".py",
   "mimetype": "text/x-python",
   "name": "python",
   "nbconvert_exporter": "python",
   "pygments_lexer": "ipython3",
   "version": "3.6.4"
  }
 },
 "nbformat": 4,
 "nbformat_minor": 2
}
